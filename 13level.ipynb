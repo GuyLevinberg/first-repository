{
 "cells": [
  {
   "cell_type": "code",
   "execution_count": 95,
   "id": "7a50187a",
   "metadata": {},
   "outputs": [],
   "source": [
    "from qutip import *\n",
    "import numpy as np\n",
    "import matplotlib.pyplot as plt\n",
    "%matplotlib inline\n",
    "import time\n",
    "from numpy import loadtxt"
   ]
  },
  {
   "cell_type": "code",
   "execution_count": 96,
   "id": "549d4ddc",
   "metadata": {},
   "outputs": [],
   "source": [
    "#writing the basis\n",
    "gs1=basis(13,0)\n",
    "gs2=basis(13,1)\n",
    "gs3=basis(13,2)\n",
    "g1=basis(13,3)\n",
    "g2=basis(13,4)\n",
    "g3=basis(13,5)\n",
    "g4=basis(13,6)\n",
    "g5=basis(13,7)\n",
    "e1=basis(13,8)\n",
    "e2=basis(13,9)\n",
    "e3=basis(13,10)\n",
    "e4=basis(13,11)\n",
    "e5=basis(13,12)\n",
    "gamma=1.0e4 #according to measurments, in MHz"
   ]
  },
  {
   "cell_type": "code",
   "execution_count": 97,
   "id": "08ffee18",
   "metadata": {},
   "outputs": [],
   "source": [
    "densities= loadtxt(\"densities1.txt\");\n",
    "densities.sort()\n",
    "contrasts=[]"
   ]
  },
  {
   "cell_type": "code",
   "execution_count": 98,
   "id": "8cca3636",
   "metadata": {},
   "outputs": [],
   "source": [
    "B=0.2 #magnetic field in Gauss\n",
    "HFS=2*np.pi*6834 # hyperfine frequency in 2pi MHz\n",
    "A=0.7*B #zeeman energy splitting in MHz\n",
    "Etrans=2*np.pi*377107568 #Transition frequency in 2Pi MHz\n",
    "\n",
    "options = Options()\n",
    "options.rtol=1e-5\n",
    "options.atol=1e-7\n",
    "options.nsteps=500000\n",
    "options.method='bdf'\n",
    "\n",
    "L=0.006; #vapor cell length in meters.\n",
    "grains=100; #number of calculation steps.\n",
    "zz=np.linspace(0,L,grains)\n",
    "grainSize=zz[2]-zz[1]\n",
    "absCoeff=2.168e-13"
   ]
  },
  {
   "cell_type": "code",
   "execution_count": 99,
   "id": "660f0d69",
   "metadata": {},
   "outputs": [],
   "source": [
    "#initial state and initial rabi frequencies\n",
    "init=0.125*gs1*gs1.dag()+0.125*gs2*gs2.dag()+0.125*g1*g1.dag()+0.125*g2*g2.dag()+0.125*g3*g3.dag()+0.125*g4*g4.dag()+0.125*g5*g5.dag()\n",
    "rabi1init=1 #in MHz\n",
    "rabi2init=rabi1init\n",
    "deltalist = np.linspace(-0.01,0.01,1000)\n",
    "smalldeltalist=np.array([8e-3,0]); #the first value is the off-resonant detuning the second is zero (on resonance)\n",
    "#\n",
    "#\n",
    "numDecayChannels=40;\n",
    "gamma=gamma/numDecayChannels;\n",
    "#collapse operators \n",
    "collapse=[]\n",
    "colE5g5=np.sqrt(gamma)*g5*e5.dag()\n",
    "colE5g4=np.sqrt(gamma)*g4*e5.dag()\n",
    "colE5gs1=np.sqrt(gamma)*gs1*e5.dag()\n",
    "colE5gs2=np.sqrt(gamma)*gs2*e5.dag()\n",
    "colE5gs3=np.sqrt(gamma)*gs3*e5.dag()\n",
    "colE5g1=np.sqrt(gamma)*g1*e5.dag()\n",
    "colE5g2=np.sqrt(gamma)*g2*e5.dag()\n",
    "colE5g3=np.sqrt(gamma)*g3*e5.dag()\n",
    "collapse.extend([colE5g5,colE5g4,colE5g3,colE5g2,colE5g1,colE5gs1,colE5gs2,colE5gs3])\n",
    "#\n",
    "colE4g5=np.sqrt(gamma)*g5*e4.dag()\n",
    "colE4g4=np.sqrt(gamma)*g4*e4.dag()\n",
    "colE4gs1=np.sqrt(gamma)*gs1*e4.dag()\n",
    "colE4gs2=np.sqrt(gamma)*gs2*e4.dag()\n",
    "colE4gs3=np.sqrt(gamma)*gs3*e4.dag()\n",
    "colE4g1=np.sqrt(gamma)*g1*e4.dag()\n",
    "colE4g2=np.sqrt(gamma)*g2*e4.dag()\n",
    "colE4g3=np.sqrt(gamma)*g3*e4.dag()\n",
    "collapse.extend([colE4g5,colE4g4,colE4g3,colE4g2,colE4g1,colE4gs1,colE4gs2,colE4gs3])\n",
    "#\n",
    "#\n",
    "colE3g5=np.sqrt(gamma)*g5*e3.dag()\n",
    "colE3g4=np.sqrt(gamma)*g4*e3.dag()\n",
    "colE3gs1=np.sqrt(gamma)*gs1*e3.dag()\n",
    "colE3gs2=np.sqrt(gamma)*gs2*e3.dag()\n",
    "colE3gs3=np.sqrt(gamma)*gs3*e3.dag()\n",
    "colE3g1=np.sqrt(gamma)*g1*e3.dag()\n",
    "colE3g2=np.sqrt(gamma)*g2*e3.dag()\n",
    "colE3g3=np.sqrt(gamma)*g3*e3.dag()\n",
    "collapse.extend([colE3g5,colE3g4,colE3g3,colE3g2,colE3g1,colE3gs1,colE3gs2,colE3gs3])\n",
    "#\n",
    "colE2g5=np.sqrt(gamma)*g5*e2.dag()\n",
    "colE2g4=np.sqrt(gamma)*g4*e2.dag()\n",
    "colE2gs1=np.sqrt(gamma)*gs1*e2.dag()\n",
    "colE2gs2=np.sqrt(gamma)*gs2*e2.dag()\n",
    "colE2gs3=np.sqrt(gamma)*gs3*e2.dag()\n",
    "colE2g1=np.sqrt(gamma)*g1*e2.dag()\n",
    "colE2g2=np.sqrt(gamma)*g2*e2.dag()\n",
    "colE2g3=np.sqrt(gamma)*g3*e2.dag()\n",
    "collapse.extend([colE2g5,colE2g4,colE2g3,colE2g2,colE2g1,colE2gs1,colE2gs2,colE2gs3])\n",
    "#\n",
    "colE1g5=np.sqrt(gamma)*g5*e1.dag()\n",
    "colE1g4=np.sqrt(gamma)*g4*e1.dag()\n",
    "colE1gs1=np.sqrt(gamma)*gs1*e1.dag()\n",
    "colE1gs2=np.sqrt(gamma)*gs2*e1.dag()\n",
    "colE1gs3=np.sqrt(gamma)*gs3*e1.dag()\n",
    "colE1g1=np.sqrt(gamma)*g1*e1.dag()\n",
    "colE1g2=np.sqrt(gamma)*g2*e1.dag()\n",
    "colE1g3=np.sqrt(gamma)*g3*e1.dag()\n",
    "collapse.extend([colE1g5,colE1g4,colE1g3,colE1g2,colE1g1,colE1gs1,colE1gs2,colE1gs3])\n",
    "#\n",
    "dephaseConst=0.0001*gamma\n",
    "dephaseColapse=dephaseConst*(e1*e1.dag()+e2*e2.dag())\n",
    "#dephasing was not added in the model\n",
    "#ground state relaxation \n",
    "gsRelaxationRate=1.8e-3 #ground stete relaxation rate in MHz\n",
    "\n",
    "gsRelaxationChannels=9\n",
    "gsRelaxationRate=gsRelaxationRate/gsRelaxationChannels\n",
    "gsRelaxationCollapse1=np.sqrt(gsRelaxationRate)*(gs1)*g5.dag()\n",
    "gsRelaxationCollapse2=np.sqrt(gsRelaxationRate)*(gs1)*g4.dag()\n",
    "gsRelaxationCollapse3=np.sqrt(gsRelaxationRate)*(gs2)*g4.dag()\n",
    "gsRelaxationCollapse4=np.sqrt(gsRelaxationRate)*(gs3)*g3.dag()\n",
    "gsRelaxationCollapse5=np.sqrt(gsRelaxationRate)*(gs2)*g3.dag()\n",
    "gsRelaxationCollapse6=np.sqrt(gsRelaxationRate)*(gs1)*g3.dag()\n",
    "gsRelaxationCollapse7=np.sqrt(gsRelaxationRate)*(gs2)*g2.dag()\n",
    "gsRelaxationCollapse8=np.sqrt(gsRelaxationRate)*(gs3)*g2.dag()\n",
    "gsRelaxationCollapse9=np.sqrt(gsRelaxationRate)*(gs3)*g1.dag()\n",
    "collapse.extend([gsRelaxationCollapse1,gsRelaxationCollapse2,gsRelaxationCollapse3,gsRelaxationCollapse4,gsRelaxationCollapse5,gsRelaxationCollapse6,gsRelaxationCollapse7,gsRelaxationCollapse8,gsRelaxationCollapse9])\n"
   ]
  },
  {
   "cell_type": "code",
   "execution_count": 100,
   "id": "765d76d5",
   "metadata": {},
   "outputs": [],
   "source": [
    "#diagonal part of the hamiltonian\n",
    "Hdiag1=A*gs2*gs2.dag()+2*A*gs3*gs3.dag()\n",
    "Hdiag2=(HFS-A)*g1*g1.dag()+(HFS)*g2*g2.dag()+(HFS+A)*g3*g3.dag()+(HFS+2*A)*g4*g4.dag()+(HFS+3*A)*g5*g5.dag()\n",
    "Hdiag3=(HFS+Etrans+A/3)*e1*e1.dag()+(HFS+Etrans+2*A/3)*e2*e2.dag()+(HFS+Etrans+A)*e3*e3.dag()+(HFS+Etrans+4*A/3)*e4*e4.dag()+(HFS+Etrans+5*A/3)*e5*e5.dag()\n",
    "Hdiag=Hdiag1+Hdiag2+Hdiag3\n",
    "hbar=1\n",
    "            #Rotating frame contribution to diagonal exluding the Delta part:\n",
    "Hrf=(g1*g1.dag()*(HFS)+g2*g2.dag()*(HFS)+g3*g3.dag()*(HFS)+g4*g4.dag()*(HFS)+g5*g5.dag()*(HFS)+e1*e1.dag()*(Etrans+HFS)+e2*e2.dag()*(Etrans+HFS)+e3*e3.dag()*(Etrans+HFS)+e4*e4.dag()*(Etrans+HFS)+e5*e5.dag()*(Etrans+HFS))*hbar\n",
    "\n",
    "\n",
    "\n",
    "\n"
   ]
  },
  {
   "cell_type": "code",
   "execution_count": 101,
   "id": "56801a27",
   "metadata": {},
   "outputs": [],
   "source": [
    "popgs1=[]\n",
    "popgs2=[]\n",
    "popgs3=[]\n",
    "popg1=[]\n",
    "popg2=[]\n",
    "popg3=[]\n",
    "popg4=[]\n",
    "popg5=[]\n",
    "pope1=[]\n",
    "pope2=[]\n",
    "pope3=[]\n",
    "pope4=[]\n",
    "pope5=[]\n",
    "gs1e5=[]\n",
    "gs2e4=[]\n",
    "gs3e3=[]\n",
    "g1e2=[]\n",
    "g2e3=[]\n",
    "g3e4=[]\n",
    "g4e5=[]\n",
    "popg5=[]\n",
    "totAbs=[]\n",
    "dOmega=0;\n",
    "rabimat=np.zeros((len(smalldeltalist),len(zz)))\n",
    "carrierAbs=np.linspace(0.7,0.6,len(densities))\n",
    "ratios=[]"
   ]
  },
  {
   "cell_type": "code",
   "execution_count": 102,
   "id": "5620933b",
   "metadata": {},
   "outputs": [],
   "source": [
    "#calculations for the contrast. if not interested in the contrast, skip this part\n",
    "k=0\n",
    "for density in densities:\n",
    "    j=0\n",
    "    dOmega=0;\n",
    "    for Delta in smalldeltalist:\n",
    "        HdiagX=(g1*g1.dag()+g2*g2.dag()+g3*g3.dag()+g4*g4.dag()+g5*g5.dag()+0.5*e1*e1.dag()+0.5*e2*e2.dag()+0.5*e3*e3.dag()+0.5*e4*e4.dag()+0.5*e5*e5.dag())*hbar*Delta\n",
    "        i=0\n",
    "        rabi1=-rabi1init\n",
    "        rabi2=-rabi1\n",
    "        dOmega=0\n",
    "        for dz in zz:\n",
    "            rabi1=rabi1+(dOmega*grainSize)\n",
    "            rabi2=-rabi1\n",
    "            Hup=rabi1*(gs1*e5.dag()*(-1/np.sqrt(2))+gs2*e4.dag()*(-0.5)+gs3*e3.dag()*(-1/np.sqrt(12)))+rabi2*(g1*e2.dag()*np.sqrt(6)+g2*e3.dag()*0.5+g3*e4.dag()*0.5+g4*e5.dag()*np.sqrt(6))\n",
    "            #Hup=rabi1*(gs1*e5.dag()*(1/np.sqrt(2))+gs2*e4.dag()*(0.5)+gs3*e3.dag()*(1/np.sqrt(12)))+rabi2*(g1*e2.dag()*np.sqrt(6)+g2*e3.dag()*0.5+g3*e4.dag()*0.5+g4*e5.dag()*np.sqrt(6))\n",
    "            Hdown=Hup.dag()\n",
    "            H0=hbar*(Hdown+Hup+Hdiag)-Hrf\n",
    "            H=H0-HdiagX\n",
    "            rho_ss = steadystate(H,collapse, method='eigen', use_rcm=True)\n",
    "            totAbs=(rho_ss[0,12]*0.5+rho_ss[1,11]*0.25+rho_ss[2,10]*(1/12)+rho_ss[3,9]*(1/6)+rho_ss[4,10]*0.25+rho_ss[5,11]*0.25+rho_ss[6,12]*(1/6))\n",
    "            dOmega=np.imag(totAbs)*absCoeff*density\n",
    "            rabimat[j][i]=rabi1\n",
    "            i+=1\n",
    "        j+=1\n",
    "\n",
    "    ratios.append((pow(rabimat[1][len(zz)-1],2)-pow(rabimat[0][len(zz)-1],2))/(pow(rabimat[0][len(zz)-1],2)+carrierAbs[k]*rabi1init*rabi1init))\n",
    "    k+=1"
   ]
  },
  {
   "cell_type": "code",
   "execution_count": 103,
   "id": "7197d1c2",
   "metadata": {},
   "outputs": [],
   "source": [
    "temps = loadtxt(\"temps1.txt\");\n",
    "temps.sort()"
   ]
  },
  {
   "cell_type": "code",
   "execution_count": 105,
   "id": "9ac9ce47",
   "metadata": {
    "scrolled": false
   },
   "outputs": [
    {
     "data": {
      "text/plain": [
       "Text(0.5, 1.0, 'Contrasts - 6 mm cell')"
      ]
     },
     "execution_count": 105,
     "metadata": {},
     "output_type": "execute_result"
    },
    {
     "data": {
      "image/png": "[encoded data removed]",
      "text/plain": [
       "<Figure size 640x480 with 1 Axes>"
      ]
     },
     "metadata": {},
     "output_type": "display_data"
    }
   ],
   "source": [
    "plt.plot(temps,ratios,'r')\n",
    "plt.xlabel('Temperature[$C^\\circ$]')\n",
    "plt.ylabel('Contrast')\n",
    "plt.title('Contrasts - 6 mm cell') #insert name..\n"
   ]
  },
  {
   "cell_type": "code",
   "execution_count": 50,
   "id": "ea53a6f7",
   "metadata": {},
   "outputs": [],
   "source": [
    "#calculations of rho_steaty state vs detuning.\n",
    "popgs1=[]\n",
    "popgs2=[]\n",
    "popgs3=[]\n",
    "popg1=[]\n",
    "popg2=[]\n",
    "popg3=[]\n",
    "popg4=[]\n",
    "popg5=[]\n",
    "pope1=[]\n",
    "pope2=[]\n",
    "pope3=[]\n",
    "pope4=[]\n",
    "pope5=[]\n",
    "gs1e5=[]\n",
    "gs2e4=[]\n",
    "gs3e3=[]\n",
    "g1e2=[]\n",
    "g2e3=[]\n",
    "g3e4=[]\n",
    "g4e5=[]\n",
    "popg5=[]\n",
    "totAbs=[]\n",
    "rabi1=-rabi1init\n",
    "rabi2=-rabi1\n",
    "Hup=rabi1*(gs1*e5.dag()*(-1/np.sqrt(2))+gs2*e4.dag()*(-0.5)+gs3*e3.dag()*(-1/np.sqrt(12)))+rabi2*(g1*e2.dag()*np.sqrt(6)+g2*e3.dag()*0.5+g3*e4.dag()*0.5+g4*e5.dag()*np.sqrt(6))\n",
    "Hdown=Hup.dag()\n",
    "H0=(Hdown+Hup+Hdiag)-Hrf\n",
    "#H0=Hdown+Hup+Hdiag\n",
    "for Delta in deltalist:\n",
    "    Hdiag=(g1*g1.dag()+g2*g2.dag()+g3*g3.dag()+g4*g4.dag()+g5*g5.dag()+0.5*e1*e1.dag()+0.5*e2*e2.dag()+0.5*e3*e3.dag()+0.5*e4*e4.dag()+0.5*e5*e5.dag())*Delta\n",
    "    H=H0-Hdiag\n",
    "    rho_ss = steadystate(H,collapse)\n",
    "    \n",
    "# save values for plotting later:\n",
    "    popgs1.append(rho_ss[0,0]) \n",
    "    popgs2.append(rho_ss[1,1]) \n",
    "    popgs3.append(rho_ss[2,2]) \n",
    "    popg1.append(rho_ss[3,3])\n",
    "    popg2.append(rho_ss[4,4])\n",
    "    popg3.append(rho_ss[5,5])\n",
    "    popg4.append(rho_ss[6,6])\n",
    "    popg5.append(rho_ss[7,7])\n",
    "    pope1.append(rho_ss[8,8])\n",
    "    pope2.append(rho_ss[9,9])\n",
    "    pope3.append(rho_ss[10,10])\n",
    "    pope4.append(rho_ss[11,11])\n",
    "    pope5.append(rho_ss[12,12])\n",
    "           # (some) coherences\n",
    "    gs1e5.append(rho_ss[0,12])\n",
    "    gs2e4.append(rho_ss[1,11])\n",
    "    gs3e3.append(rho_ss[2,10])\n",
    "    g1e2.append(rho_ss[3,9])\n",
    "    g2e3.append(rho_ss[4,10])\n",
    "    g3e4.append(rho_ss[5,11])\n",
    "    g4e5.append(rho_ss[6,12])\n",
    "    totAbs.append(rho_ss[0,12]+rho_ss[1,11]+rho_ss[2,10]+rho_ss[3,9]+rho_ss[4,10]+rho_ss[5,11]+rho_ss[6,12])\n"
   ]
  },
  {
   "cell_type": "code",
   "execution_count": 66,
   "id": "75d5bf58",
   "metadata": {},
   "outputs": [
    {
     "data": {
      "text/plain": [
       "Text(0, 0.5, '$Im[\\\\chi] \\\\sim Absorbtion$')"
      ]
     },
     "execution_count": 66,
     "metadata": {},
     "output_type": "execute_result"
    },
    {
     "data": {
      "image/png": "[encoded data removed]",
      "text/plain": [
       "<Figure size 640x480 with 1 Axes>"
      ]
     },
     "metadata": {},
     "output_type": "display_data"
    }
   ],
   "source": [
    "deltalistKHz=np.array(deltalist)*1000;\n",
    "plt.plot(deltalistKHz,(np.imag(totAbs)))\n",
    "plt.xlabel('$\\Delta[KHz]$')\n",
    "plt.ylabel('$Im[\\chi] \\sim Absorbtion$')\n",
    "#ax.set_title('Multiple Plots on the Same Graph')"
   ]
  }
 ],
 "metadata": {
  "kernelspec": {
   "display_name": "Python 3 (ipykernel)",
   "language": "python",
   "name": "python3"
  },
  "language_info": {
   "codemirror_mode": {
    "name": "ipython",
    "version": 3
   },
   "file_extension": ".py",
   "mimetype": "text/x-python",
   "name": "python",
   "nbconvert_exporter": "python",
   "pygments_lexer": "ipython3",
   "version": "3.10.12"
  }
 },
 "nbformat": 4,
 "nbformat_minor": 5
}
